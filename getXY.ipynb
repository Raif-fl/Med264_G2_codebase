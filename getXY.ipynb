{
 "cells": [
  {
   "cell_type": "code",
   "execution_count": 2,
   "id": "d37439f4-b7f6-4abf-bd34-a702c8f5f4ec",
   "metadata": {},
   "outputs": [],
   "source": [
    "import pandas as pd\n",
    "import os"
   ]
  },
  {
   "cell_type": "code",
   "execution_count": 14,
   "id": "0258a55b-7d1f-47e0-8fc8-1e6f85fb73d4",
   "metadata": {},
   "outputs": [],
   "source": [
    "def getXY(ids,labels,concat_cols):\n",
    "    data_icu = True\n",
    "    concat = False\n",
    "    X_df=pd.DataFrame()   \n",
    "    y_df=pd.DataFrame()   \n",
    "    features=[]\n",
    "    #print(ids)\n",
    "    # For every one of the samples in the ./data/csv folder, get the data. \n",
    "    for sample in ids:\n",
    "        # Get different labels depending on whether or not we are looking at ICU data. \n",
    "        if data_icu:\n",
    "            y=labels[labels['stay_id']==sample]['label']\n",
    "        else:\n",
    "            y=labels[labels['hadm_id']==sample]['label']\n",
    "\n",
    "        # Read in the dynamic data. \n",
    "        dyn=pd.read_csv('./data/csv/'+str(sample)+'/dynamic.csv',header=[0,1])\n",
    "\n",
    "        # I do not know what this concat stuff is doing, but I believe it is not what we ae working on. \n",
    "        if concat:\n",
    "            dyn.columns=dyn.columns.droplevel(0)\n",
    "            dyn=dyn.to_numpy()\n",
    "            dyn=dyn.reshape(1,-1)\n",
    "            #print(dyn.shape)\n",
    "            #print(len(concat_cols))\n",
    "            dyn_df=pd.DataFrame(data=dyn,columns=concat_cols)\n",
    "            features=concat_cols\n",
    "\n",
    "        # This is the only one we are really going to use, for now. \n",
    "        else:\n",
    "            dyn_df=pd.DataFrame()\n",
    "            #print(dyn)\n",
    "            for key in dyn.columns.levels[0]:\n",
    "                #print(sample)                    \n",
    "                dyn_temp=dyn[key]\n",
    "                # This is the one that we are using. \n",
    "                if data_icu:\n",
    "                    if ((key==\"CHART\") or (key==\"MEDS\")):\n",
    "                        agg=dyn_temp.aggregate(\"mean\")\n",
    "                        agg=agg.reset_index()\n",
    "                    else:\n",
    "                        agg=dyn_temp.aggregate(\"max\")\n",
    "                        agg=agg.reset_index()\n",
    "                else:\n",
    "                    if ((key==\"LAB\") or (key==\"MEDS\")):\n",
    "                        agg=dyn_temp.aggregate(\"mean\")\n",
    "                        agg=agg.reset_index()\n",
    "                    else:\n",
    "                        agg=dyn_temp.aggregate(\"max\")\n",
    "                        agg=agg.reset_index()\n",
    "                if dyn_df.empty:\n",
    "                    dyn_df=agg\n",
    "                else:\n",
    "                    dyn_df=pd.concat([dyn_df,agg],axis=0)\n",
    "            dyn_df=dyn_df.T\n",
    "            dyn_df.columns = dyn_df.iloc[0]\n",
    "            dyn_df=dyn_df.iloc[1:,:]\n",
    "        # get the static and demo data. \n",
    "        stat=pd.read_csv('../MIMIC-IV-Data-Pipeline/data/csv/'+str(sample)+'/static.csv',header=0)\n",
    "        demo=pd.read_csv('../MIMIC-IV-Data-Pipeline/data/csv/'+str(sample)+'/demo.csv',header=0)\n",
    "\n",
    "        # Fill up the X_df with the demo data. \n",
    "        if X_df.empty:\n",
    "            X_df=pd.concat([dyn_df,stat],axis=1)\n",
    "            X_df=pd.concat([X_df,demo],axis=1)\n",
    "        else:\n",
    "            X_df=pd.concat([X_df,pd.concat([pd.concat([dyn_df,stat],axis=1),demo],axis=1)],axis=0)\n",
    "\n",
    "        # Just make y equal to the label (with the labels describing how many \n",
    "        if y_df.empty:\n",
    "            y_df=y\n",
    "        else:\n",
    "            y_df=pd.concat([y_df,y],axis=0)\n",
    "            \n",
    "    # remove all of the duplicate columns. \n",
    "    X_df = X_df.loc[:,~X_df.columns.duplicated()].copy()\n",
    "    print(\"X_df\",X_df.shape)\n",
    "    print(\"y_df\",y_df.shape)\n",
    "    return X_df ,y_df"
   ]
  },
  {
   "cell_type": "code",
   "execution_count": 15,
   "id": "36e3f5cb-d1b2-4020-a6be-4b8c3950f1c4",
   "metadata": {},
   "outputs": [],
   "source": [
    "all_csv = os.listdir(\"data/csv\")\n",
    "concat_cols = None\n",
    "labels=pd.read_csv('./data/labels.csv', header=0)"
   ]
  },
  {
   "cell_type": "code",
   "execution_count": 16,
   "id": "118d2e9f-6915-4cec-9fd8-b953e367e2d5",
   "metadata": {},
   "outputs": [],
   "source": [
    "ids = []\n",
    "for csv in all_csv:\n",
    "    try:\n",
    "        ids.append(int(csv))\n",
    "    except:\n",
    "        continue"
   ]
  },
  {
   "cell_type": "code",
   "execution_count": 17,
   "id": "10cb8cb3-0f01-492e-a7c2-fec7ec0ef4fc",
   "metadata": {},
   "outputs": [
    {
     "name": "stdout",
     "output_type": "stream",
     "text": [
      "X_df (2538, 25)\n",
      "y_df (2538,)\n"
     ]
    }
   ],
   "source": [
    "X_df, Y_df = getXY(ids,labels,concat_cols)"
   ]
  },
  {
   "cell_type": "code",
   "execution_count": 22,
   "id": "a34d4096-77fc-49f2-8274-a6bbc09c7f2a",
   "metadata": {},
   "outputs": [],
   "source": [
    "X_df.to_csv(\"All_train_X.csv\", index=False)\n",
    "Y_df.to_csv(\"All_train_Y.csv\", index=False)"
   ]
  }
 ],
 "metadata": {
  "kernelspec": {
   "display_name": "Python 3 (ipykernel)",
   "language": "python",
   "name": "python3"
  },
  "language_info": {
   "codemirror_mode": {
    "name": "ipython",
    "version": 3
   },
   "file_extension": ".py",
   "mimetype": "text/x-python",
   "name": "python",
   "nbconvert_exporter": "python",
   "pygments_lexer": "ipython3",
   "version": "3.10.12"
  }
 },
 "nbformat": 4,
 "nbformat_minor": 5
}
