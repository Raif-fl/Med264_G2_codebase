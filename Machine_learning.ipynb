{
  "nbformat": 4,
  "nbformat_minor": 0,
  "metadata": {
    "colab": {
      "provenance": []
    },
    "kernelspec": {
      "name": "python3",
      "display_name": "Python 3"
    },
    "language_info": {
      "name": "python"
    }
  },
  "cells": [
    {
      "cell_type": "code",
      "execution_count": null,
      "metadata": {
        "id": "LUjhUI9oysfh"
      },
      "outputs": [],
      "source": [
        "import pandas as pd\n",
        "import numpy as np\n",
        "from sklearn.linear_model import LogisticRegression\n",
        "from sklearn.metrics import classification_report\n",
        "from sklearn.ensemble import RandomForestClassifier, GradientBoostingClassifier\n",
        "from sklearn.utils import resample\n",
        "from sklearn.svm import SVC\n",
        "from sklearn.neighbors import KNeighborsClassifier\n",
        "from sklearn.naive_bayes import GaussianNB\n",
        "from xgboost import XGBClassifier\n",
        "from sklearn.metrics import confusion_matrix\n",
        "import seaborn as sns\n",
        "import matplotlib.pyplot as plt\n",
        "from sklearn.metrics import precision_recall_curve, roc_curve, auc"
      ]
    },
    {
      "cell_type": "code",
      "source": [
        "X_train = pd.read_csv('/content/all_X_train.csv')\n",
        "y_train = pd.read_csv('/content/All_Y_train.csv')\n",
        "\n",
        "X_test = pd.read_csv('/content/All_X_test.csv')\n",
        "y_test = pd.read_csv('/content/All_Y_test.csv')"
      ],
      "metadata": {
        "id": "C7Ep_Czny8o_"
      },
      "execution_count": null,
      "outputs": []
    },
    {
      "cell_type": "code",
      "source": [
        "print(X_train.shape[0] == y_train.shape[0])\n",
        "\n",
        "print(X_test.shape[0] == y_test.shape[0])\n",
        "\n",
        "print(X_train.shape[1] == X_test.shape[1])"
      ],
      "metadata": {
        "colab": {
          "base_uri": "https://localhost:8080/"
        },
        "id": "BVqCQArVzCLQ",
        "outputId": "171f4218-b93b-4eab-d710-1d7687a46a05"
      },
      "execution_count": null,
      "outputs": [
        {
          "output_type": "stream",
          "name": "stdout",
          "text": [
            "True\n",
            "True\n",
            "True\n"
          ]
        }
      ]
    },
    {
      "cell_type": "code",
      "source": [
        "X_train.shape"
      ],
      "metadata": {
        "colab": {
          "base_uri": "https://localhost:8080/"
        },
        "id": "X6Cn-9VFcwtP",
        "outputId": "d22c78e3-2680-409d-a747-f24cc4af7cf2"
      },
      "execution_count": null,
      "outputs": [
        {
          "output_type": "execute_result",
          "data": {
            "text/plain": [
              "(2028, 25)"
            ]
          },
          "metadata": {},
          "execution_count": 5
        }
      ]
    },
    {
      "cell_type": "code",
      "source": [
        "flag = 1\n",
        "for arr in X_train.columns == X_test.columns:\n",
        "  if arr == False:\n",
        "    print('False')\n",
        "if flag ==1:\n",
        "  print('True')"
      ],
      "metadata": {
        "colab": {
          "base_uri": "https://localhost:8080/"
        },
        "id": "nBNFZ3SG1ZxB",
        "outputId": "c5cfecdf-afae-43b3-9b01-e6b5f384bea5"
      },
      "execution_count": null,
      "outputs": [
        {
          "output_type": "stream",
          "name": "stdout",
          "text": [
            "True\n"
          ]
        }
      ]
    },
    {
      "cell_type": "code",
      "source": [
        "X_train.head(3)"
      ],
      "metadata": {
        "colab": {
          "base_uri": "https://localhost:8080/",
          "height": 297
        },
        "id": "ODmJZzHS1Zu8",
        "outputId": "00b0903e-1e64-433a-fac1-58c27e28844f"
      },
      "execution_count": null,
      "outputs": [
        {
          "output_type": "execute_result",
          "data": {
            "text/plain": [
              "      220045     220179     220210      220277     223761    220293  \\\n",
              "0  94.472222  98.312500  23.131944   87.986111  25.613889  0.000000   \n",
              "1  80.555556  96.222222  20.527778  105.986111  23.043056  0.000000   \n",
              "2  87.361111  84.430556  28.666667   94.277778  30.523611  1.055556   \n",
              "\n",
              "      224685    220224    220235    225625  ...               intime  \\\n",
              "0   0.000000  0.000000  0.000000  0.233333  ...  2138-07-31 10:38:39   \n",
              "1   0.000000  0.000000  0.000000  0.341667  ...  2144-12-02 00:57:43   \n",
              "2  20.208333  2.666667  0.402778  0.316667  ...  2182-12-06 01:33:09   \n",
              "\n",
              "               outtime  Age  gender  ethnicity insurance label   hadm_id los  \\\n",
              "0  2138-08-05 11:34:23   68       M      WHITE     Other     0  24113870  72   \n",
              "1  2144-12-07 00:21:14   82       M      WHITE  Medicare     0  28605008  72   \n",
              "2  2182-12-09 18:35:12   76       F      WHITE     Other     1  20574244  72   \n",
              "\n",
              "  select_time  \n",
              "0          48  \n",
              "1          47  \n",
              "2          17  \n",
              "\n",
              "[3 rows x 25 columns]"
            ],
            "text/html": [
              "\n",
              "  <div id=\"df-b476df24-6a6d-4571-b878-43b9f028dbab\" class=\"colab-df-container\">\n",
              "    <div>\n",
              "<style scoped>\n",
              "    .dataframe tbody tr th:only-of-type {\n",
              "        vertical-align: middle;\n",
              "    }\n",
              "\n",
              "    .dataframe tbody tr th {\n",
              "        vertical-align: top;\n",
              "    }\n",
              "\n",
              "    .dataframe thead th {\n",
              "        text-align: right;\n",
              "    }\n",
              "</style>\n",
              "<table border=\"1\" class=\"dataframe\">\n",
              "  <thead>\n",
              "    <tr style=\"text-align: right;\">\n",
              "      <th></th>\n",
              "      <th>220045</th>\n",
              "      <th>220179</th>\n",
              "      <th>220210</th>\n",
              "      <th>220277</th>\n",
              "      <th>223761</th>\n",
              "      <th>220293</th>\n",
              "      <th>224685</th>\n",
              "      <th>220224</th>\n",
              "      <th>220235</th>\n",
              "      <th>225625</th>\n",
              "      <th>...</th>\n",
              "      <th>intime</th>\n",
              "      <th>outtime</th>\n",
              "      <th>Age</th>\n",
              "      <th>gender</th>\n",
              "      <th>ethnicity</th>\n",
              "      <th>insurance</th>\n",
              "      <th>label</th>\n",
              "      <th>hadm_id</th>\n",
              "      <th>los</th>\n",
              "      <th>select_time</th>\n",
              "    </tr>\n",
              "  </thead>\n",
              "  <tbody>\n",
              "    <tr>\n",
              "      <th>0</th>\n",
              "      <td>94.472222</td>\n",
              "      <td>98.312500</td>\n",
              "      <td>23.131944</td>\n",
              "      <td>87.986111</td>\n",
              "      <td>25.613889</td>\n",
              "      <td>0.000000</td>\n",
              "      <td>0.000000</td>\n",
              "      <td>0.000000</td>\n",
              "      <td>0.000000</td>\n",
              "      <td>0.233333</td>\n",
              "      <td>...</td>\n",
              "      <td>2138-07-31 10:38:39</td>\n",
              "      <td>2138-08-05 11:34:23</td>\n",
              "      <td>68</td>\n",
              "      <td>M</td>\n",
              "      <td>WHITE</td>\n",
              "      <td>Other</td>\n",
              "      <td>0</td>\n",
              "      <td>24113870</td>\n",
              "      <td>72</td>\n",
              "      <td>48</td>\n",
              "    </tr>\n",
              "    <tr>\n",
              "      <th>1</th>\n",
              "      <td>80.555556</td>\n",
              "      <td>96.222222</td>\n",
              "      <td>20.527778</td>\n",
              "      <td>105.986111</td>\n",
              "      <td>23.043056</td>\n",
              "      <td>0.000000</td>\n",
              "      <td>0.000000</td>\n",
              "      <td>0.000000</td>\n",
              "      <td>0.000000</td>\n",
              "      <td>0.341667</td>\n",
              "      <td>...</td>\n",
              "      <td>2144-12-02 00:57:43</td>\n",
              "      <td>2144-12-07 00:21:14</td>\n",
              "      <td>82</td>\n",
              "      <td>M</td>\n",
              "      <td>WHITE</td>\n",
              "      <td>Medicare</td>\n",
              "      <td>0</td>\n",
              "      <td>28605008</td>\n",
              "      <td>72</td>\n",
              "      <td>47</td>\n",
              "    </tr>\n",
              "    <tr>\n",
              "      <th>2</th>\n",
              "      <td>87.361111</td>\n",
              "      <td>84.430556</td>\n",
              "      <td>28.666667</td>\n",
              "      <td>94.277778</td>\n",
              "      <td>30.523611</td>\n",
              "      <td>1.055556</td>\n",
              "      <td>20.208333</td>\n",
              "      <td>2.666667</td>\n",
              "      <td>0.402778</td>\n",
              "      <td>0.316667</td>\n",
              "      <td>...</td>\n",
              "      <td>2182-12-06 01:33:09</td>\n",
              "      <td>2182-12-09 18:35:12</td>\n",
              "      <td>76</td>\n",
              "      <td>F</td>\n",
              "      <td>WHITE</td>\n",
              "      <td>Other</td>\n",
              "      <td>1</td>\n",
              "      <td>20574244</td>\n",
              "      <td>72</td>\n",
              "      <td>17</td>\n",
              "    </tr>\n",
              "  </tbody>\n",
              "</table>\n",
              "<p>3 rows × 25 columns</p>\n",
              "</div>\n",
              "    <div class=\"colab-df-buttons\">\n",
              "\n",
              "  <div class=\"colab-df-container\">\n",
              "    <button class=\"colab-df-convert\" onclick=\"convertToInteractive('df-b476df24-6a6d-4571-b878-43b9f028dbab')\"\n",
              "            title=\"Convert this dataframe to an interactive table.\"\n",
              "            style=\"display:none;\">\n",
              "\n",
              "  <svg xmlns=\"http://www.w3.org/2000/svg\" height=\"24px\" viewBox=\"0 -960 960 960\">\n",
              "    <path d=\"M120-120v-720h720v720H120Zm60-500h600v-160H180v160Zm220 220h160v-160H400v160Zm0 220h160v-160H400v160ZM180-400h160v-160H180v160Zm440 0h160v-160H620v160ZM180-180h160v-160H180v160Zm440 0h160v-160H620v160Z\"/>\n",
              "  </svg>\n",
              "    </button>\n",
              "\n",
              "  <style>\n",
              "    .colab-df-container {\n",
              "      display:flex;\n",
              "      gap: 12px;\n",
              "    }\n",
              "\n",
              "    .colab-df-convert {\n",
              "      background-color: #E8F0FE;\n",
              "      border: none;\n",
              "      border-radius: 50%;\n",
              "      cursor: pointer;\n",
              "      display: none;\n",
              "      fill: #1967D2;\n",
              "      height: 32px;\n",
              "      padding: 0 0 0 0;\n",
              "      width: 32px;\n",
              "    }\n",
              "\n",
              "    .colab-df-convert:hover {\n",
              "      background-color: #E2EBFA;\n",
              "      box-shadow: 0px 1px 2px rgba(60, 64, 67, 0.3), 0px 1px 3px 1px rgba(60, 64, 67, 0.15);\n",
              "      fill: #174EA6;\n",
              "    }\n",
              "\n",
              "    .colab-df-buttons div {\n",
              "      margin-bottom: 4px;\n",
              "    }\n",
              "\n",
              "    [theme=dark] .colab-df-convert {\n",
              "      background-color: #3B4455;\n",
              "      fill: #D2E3FC;\n",
              "    }\n",
              "\n",
              "    [theme=dark] .colab-df-convert:hover {\n",
              "      background-color: #434B5C;\n",
              "      box-shadow: 0px 1px 3px 1px rgba(0, 0, 0, 0.15);\n",
              "      filter: drop-shadow(0px 1px 2px rgba(0, 0, 0, 0.3));\n",
              "      fill: #FFFFFF;\n",
              "    }\n",
              "  </style>\n",
              "\n",
              "    <script>\n",
              "      const buttonEl =\n",
              "        document.querySelector('#df-b476df24-6a6d-4571-b878-43b9f028dbab button.colab-df-convert');\n",
              "      buttonEl.style.display =\n",
              "        google.colab.kernel.accessAllowed ? 'block' : 'none';\n",
              "\n",
              "      async function convertToInteractive(key) {\n",
              "        const element = document.querySelector('#df-b476df24-6a6d-4571-b878-43b9f028dbab');\n",
              "        const dataTable =\n",
              "          await google.colab.kernel.invokeFunction('convertToInteractive',\n",
              "                                                    [key], {});\n",
              "        if (!dataTable) return;\n",
              "\n",
              "        const docLinkHtml = 'Like what you see? Visit the ' +\n",
              "          '<a target=\"_blank\" href=https://colab.research.google.com/notebooks/data_table.ipynb>data table notebook</a>'\n",
              "          + ' to learn more about interactive tables.';\n",
              "        element.innerHTML = '';\n",
              "        dataTable['output_type'] = 'display_data';\n",
              "        await google.colab.output.renderOutput(dataTable, element);\n",
              "        const docLink = document.createElement('div');\n",
              "        docLink.innerHTML = docLinkHtml;\n",
              "        element.appendChild(docLink);\n",
              "      }\n",
              "    </script>\n",
              "  </div>\n",
              "\n",
              "\n",
              "<div id=\"df-4b64f83a-0333-4080-b627-df2201aa1bce\">\n",
              "  <button class=\"colab-df-quickchart\" onclick=\"quickchart('df-4b64f83a-0333-4080-b627-df2201aa1bce')\"\n",
              "            title=\"Suggest charts\"\n",
              "            style=\"display:none;\">\n",
              "\n",
              "<svg xmlns=\"http://www.w3.org/2000/svg\" height=\"24px\"viewBox=\"0 0 24 24\"\n",
              "     width=\"24px\">\n",
              "    <g>\n",
              "        <path d=\"M19 3H5c-1.1 0-2 .9-2 2v14c0 1.1.9 2 2 2h14c1.1 0 2-.9 2-2V5c0-1.1-.9-2-2-2zM9 17H7v-7h2v7zm4 0h-2V7h2v10zm4 0h-2v-4h2v4z\"/>\n",
              "    </g>\n",
              "</svg>\n",
              "  </button>\n",
              "\n",
              "<style>\n",
              "  .colab-df-quickchart {\n",
              "      --bg-color: #E8F0FE;\n",
              "      --fill-color: #1967D2;\n",
              "      --hover-bg-color: #E2EBFA;\n",
              "      --hover-fill-color: #174EA6;\n",
              "      --disabled-fill-color: #AAA;\n",
              "      --disabled-bg-color: #DDD;\n",
              "  }\n",
              "\n",
              "  [theme=dark] .colab-df-quickchart {\n",
              "      --bg-color: #3B4455;\n",
              "      --fill-color: #D2E3FC;\n",
              "      --hover-bg-color: #434B5C;\n",
              "      --hover-fill-color: #FFFFFF;\n",
              "      --disabled-bg-color: #3B4455;\n",
              "      --disabled-fill-color: #666;\n",
              "  }\n",
              "\n",
              "  .colab-df-quickchart {\n",
              "    background-color: var(--bg-color);\n",
              "    border: none;\n",
              "    border-radius: 50%;\n",
              "    cursor: pointer;\n",
              "    display: none;\n",
              "    fill: var(--fill-color);\n",
              "    height: 32px;\n",
              "    padding: 0;\n",
              "    width: 32px;\n",
              "  }\n",
              "\n",
              "  .colab-df-quickchart:hover {\n",
              "    background-color: var(--hover-bg-color);\n",
              "    box-shadow: 0 1px 2px rgba(60, 64, 67, 0.3), 0 1px 3px 1px rgba(60, 64, 67, 0.15);\n",
              "    fill: var(--button-hover-fill-color);\n",
              "  }\n",
              "\n",
              "  .colab-df-quickchart-complete:disabled,\n",
              "  .colab-df-quickchart-complete:disabled:hover {\n",
              "    background-color: var(--disabled-bg-color);\n",
              "    fill: var(--disabled-fill-color);\n",
              "    box-shadow: none;\n",
              "  }\n",
              "\n",
              "  .colab-df-spinner {\n",
              "    border: 2px solid var(--fill-color);\n",
              "    border-color: transparent;\n",
              "    border-bottom-color: var(--fill-color);\n",
              "    animation:\n",
              "      spin 1s steps(1) infinite;\n",
              "  }\n",
              "\n",
              "  @keyframes spin {\n",
              "    0% {\n",
              "      border-color: transparent;\n",
              "      border-bottom-color: var(--fill-color);\n",
              "      border-left-color: var(--fill-color);\n",
              "    }\n",
              "    20% {\n",
              "      border-color: transparent;\n",
              "      border-left-color: var(--fill-color);\n",
              "      border-top-color: var(--fill-color);\n",
              "    }\n",
              "    30% {\n",
              "      border-color: transparent;\n",
              "      border-left-color: var(--fill-color);\n",
              "      border-top-color: var(--fill-color);\n",
              "      border-right-color: var(--fill-color);\n",
              "    }\n",
              "    40% {\n",
              "      border-color: transparent;\n",
              "      border-right-color: var(--fill-color);\n",
              "      border-top-color: var(--fill-color);\n",
              "    }\n",
              "    60% {\n",
              "      border-color: transparent;\n",
              "      border-right-color: var(--fill-color);\n",
              "    }\n",
              "    80% {\n",
              "      border-color: transparent;\n",
              "      border-right-color: var(--fill-color);\n",
              "      border-bottom-color: var(--fill-color);\n",
              "    }\n",
              "    90% {\n",
              "      border-color: transparent;\n",
              "      border-bottom-color: var(--fill-color);\n",
              "    }\n",
              "  }\n",
              "</style>\n",
              "\n",
              "  <script>\n",
              "    async function quickchart(key) {\n",
              "      const quickchartButtonEl =\n",
              "        document.querySelector('#' + key + ' button');\n",
              "      quickchartButtonEl.disabled = true;  // To prevent multiple clicks.\n",
              "      quickchartButtonEl.classList.add('colab-df-spinner');\n",
              "      try {\n",
              "        const charts = await google.colab.kernel.invokeFunction(\n",
              "            'suggestCharts', [key], {});\n",
              "      } catch (error) {\n",
              "        console.error('Error during call to suggestCharts:', error);\n",
              "      }\n",
              "      quickchartButtonEl.classList.remove('colab-df-spinner');\n",
              "      quickchartButtonEl.classList.add('colab-df-quickchart-complete');\n",
              "    }\n",
              "    (() => {\n",
              "      let quickchartButtonEl =\n",
              "        document.querySelector('#df-4b64f83a-0333-4080-b627-df2201aa1bce button');\n",
              "      quickchartButtonEl.style.display =\n",
              "        google.colab.kernel.accessAllowed ? 'block' : 'none';\n",
              "    })();\n",
              "  </script>\n",
              "</div>\n",
              "    </div>\n",
              "  </div>\n"
            ]
          },
          "metadata": {},
          "execution_count": 7
        }
      ]
    },
    {
      "cell_type": "code",
      "source": [
        "X_train.columns.tolist()"
      ],
      "metadata": {
        "colab": {
          "base_uri": "https://localhost:8080/"
        },
        "id": "SfS_fxhCp7Az",
        "outputId": "8c59ab08-f7d9-45df-c7e6-20b1c388ae18"
      },
      "execution_count": null,
      "outputs": [
        {
          "output_type": "execute_result",
          "data": {
            "text/plain": [
              "['220045',\n",
              " '220179',\n",
              " '220210',\n",
              " '220277',\n",
              " '223761',\n",
              " '220293',\n",
              " '224685',\n",
              " '220224',\n",
              " '220235',\n",
              " '225625',\n",
              " '227457',\n",
              " '226540',\n",
              " '224639',\n",
              " 'subject_id',\n",
              " 'stay_id',\n",
              " 'intime',\n",
              " 'outtime',\n",
              " 'Age',\n",
              " 'gender',\n",
              " 'ethnicity',\n",
              " 'insurance',\n",
              " 'label',\n",
              " 'hadm_id',\n",
              " 'los',\n",
              " 'select_time']"
            ]
          },
          "metadata": {},
          "execution_count": 8
        }
      ]
    },
    {
      "cell_type": "code",
      "source": [
        "columns_to_keep_with_features = ['220045', '220277', '220210', '223761', '220179', 'Age', 'gender', 'ethnicity', 'insurance']\n",
        "columns_to_keep_with_no_features = ['Age', 'gender', 'ethnicity', 'insurance']\n",
        "\n",
        "X_train_with_features = X_train[columns_to_keep_with_features]\n",
        "X_test_with_features = X_test[columns_to_keep_with_features]\n",
        "\n",
        "X_train_with_no_features = X_train[columns_to_keep_with_no_features]\n",
        "X_test_with_no_features = X_test[columns_to_keep_with_no_features]"
      ],
      "metadata": {
        "id": "izY0giuyTE1K"
      },
      "execution_count": null,
      "outputs": []
    },
    {
      "cell_type": "code",
      "source": [
        "df_train_with_features = pd.concat([X_train_with_features, y_train], axis=1)\n",
        "df_test_with_features = pd.concat([X_test_with_features, y_test], axis=1)\n",
        "\n",
        "df_train_with_no_features = pd.concat([X_train_with_no_features, y_train], axis=1)\n",
        "df_test_with_no_features = pd.concat([X_test_with_no_features, y_test], axis=1)"
      ],
      "metadata": {
        "id": "zyS5Uw955Roe"
      },
      "execution_count": null,
      "outputs": []
    },
    {
      "cell_type": "code",
      "source": [
        "df_train_with_features.head(3)"
      ],
      "metadata": {
        "colab": {
          "base_uri": "https://localhost:8080/",
          "height": 143
        },
        "id": "sb019JTFn75O",
        "outputId": "04fc1461-518d-43c1-9d0f-f0a567184a7d"
      },
      "execution_count": null,
      "outputs": [
        {
          "output_type": "execute_result",
          "data": {
            "text/plain": [
              "      220045      220277     220210     223761     220179  Age gender  \\\n",
              "0  94.472222   87.986111  23.131944  25.613889  98.312500   68      M   \n",
              "1  80.555556  105.986111  20.527778  23.043056  96.222222   82      M   \n",
              "2  87.361111   94.277778  28.666667  30.523611  84.430556   76      F   \n",
              "\n",
              "  ethnicity insurance  label  \n",
              "0     WHITE     Other      0  \n",
              "1     WHITE  Medicare      0  \n",
              "2     WHITE     Other      1  "
            ],
            "text/html": [
              "\n",
              "  <div id=\"df-51e1b0e1-537c-4abe-b8f1-a317cf8c6c13\" class=\"colab-df-container\">\n",
              "    <div>\n",
              "<style scoped>\n",
              "    .dataframe tbody tr th:only-of-type {\n",
              "        vertical-align: middle;\n",
              "    }\n",
              "\n",
              "    .dataframe tbody tr th {\n",
              "        vertical-align: top;\n",
              "    }\n",
              "\n",
              "    .dataframe thead th {\n",
              "        text-align: right;\n",
              "    }\n",
              "</style>\n",
              "<table border=\"1\" class=\"dataframe\">\n",
              "  <thead>\n",
              "    <tr style=\"text-align: right;\">\n",
              "      <th></th>\n",
              "      <th>220045</th>\n",
              "      <th>220277</th>\n",
              "      <th>220210</th>\n",
              "      <th>223761</th>\n",
              "      <th>220179</th>\n",
              "      <th>Age</th>\n",
              "      <th>gender</th>\n",
              "      <th>ethnicity</th>\n",
              "      <th>insurance</th>\n",
              "      <th>label</th>\n",
              "    </tr>\n",
              "  </thead>\n",
              "  <tbody>\n",
              "    <tr>\n",
              "      <th>0</th>\n",
              "      <td>94.472222</td>\n",
              "      <td>87.986111</td>\n",
              "      <td>23.131944</td>\n",
              "      <td>25.613889</td>\n",
              "      <td>98.312500</td>\n",
              "      <td>68</td>\n",
              "      <td>M</td>\n",
              "      <td>WHITE</td>\n",
              "      <td>Other</td>\n",
              "      <td>0</td>\n",
              "    </tr>\n",
              "    <tr>\n",
              "      <th>1</th>\n",
              "      <td>80.555556</td>\n",
              "      <td>105.986111</td>\n",
              "      <td>20.527778</td>\n",
              "      <td>23.043056</td>\n",
              "      <td>96.222222</td>\n",
              "      <td>82</td>\n",
              "      <td>M</td>\n",
              "      <td>WHITE</td>\n",
              "      <td>Medicare</td>\n",
              "      <td>0</td>\n",
              "    </tr>\n",
              "    <tr>\n",
              "      <th>2</th>\n",
              "      <td>87.361111</td>\n",
              "      <td>94.277778</td>\n",
              "      <td>28.666667</td>\n",
              "      <td>30.523611</td>\n",
              "      <td>84.430556</td>\n",
              "      <td>76</td>\n",
              "      <td>F</td>\n",
              "      <td>WHITE</td>\n",
              "      <td>Other</td>\n",
              "      <td>1</td>\n",
              "    </tr>\n",
              "  </tbody>\n",
              "</table>\n",
              "</div>\n",
              "    <div class=\"colab-df-buttons\">\n",
              "\n",
              "  <div class=\"colab-df-container\">\n",
              "    <button class=\"colab-df-convert\" onclick=\"convertToInteractive('df-51e1b0e1-537c-4abe-b8f1-a317cf8c6c13')\"\n",
              "            title=\"Convert this dataframe to an interactive table.\"\n",
              "            style=\"display:none;\">\n",
              "\n",
              "  <svg xmlns=\"http://www.w3.org/2000/svg\" height=\"24px\" viewBox=\"0 -960 960 960\">\n",
              "    <path d=\"M120-120v-720h720v720H120Zm60-500h600v-160H180v160Zm220 220h160v-160H400v160Zm0 220h160v-160H400v160ZM180-400h160v-160H180v160Zm440 0h160v-160H620v160ZM180-180h160v-160H180v160Zm440 0h160v-160H620v160Z\"/>\n",
              "  </svg>\n",
              "    </button>\n",
              "\n",
              "  <style>\n",
              "    .colab-df-container {\n",
              "      display:flex;\n",
              "      gap: 12px;\n",
              "    }\n",
              "\n",
              "    .colab-df-convert {\n",
              "      background-color: #E8F0FE;\n",
              "      border: none;\n",
              "      border-radius: 50%;\n",
              "      cursor: pointer;\n",
              "      display: none;\n",
              "      fill: #1967D2;\n",
              "      height: 32px;\n",
              "      padding: 0 0 0 0;\n",
              "      width: 32px;\n",
              "    }\n",
              "\n",
              "    .colab-df-convert:hover {\n",
              "      background-color: #E2EBFA;\n",
              "      box-shadow: 0px 1px 2px rgba(60, 64, 67, 0.3), 0px 1px 3px 1px rgba(60, 64, 67, 0.15);\n",
              "      fill: #174EA6;\n",
              "    }\n",
              "\n",
              "    .colab-df-buttons div {\n",
              "      margin-bottom: 4px;\n",
              "    }\n",
              "\n",
              "    [theme=dark] .colab-df-convert {\n",
              "      background-color: #3B4455;\n",
              "      fill: #D2E3FC;\n",
              "    }\n",
              "\n",
              "    [theme=dark] .colab-df-convert:hover {\n",
              "      background-color: #434B5C;\n",
              "      box-shadow: 0px 1px 3px 1px rgba(0, 0, 0, 0.15);\n",
              "      filter: drop-shadow(0px 1px 2px rgba(0, 0, 0, 0.3));\n",
              "      fill: #FFFFFF;\n",
              "    }\n",
              "  </style>\n",
              "\n",
              "    <script>\n",
              "      const buttonEl =\n",
              "        document.querySelector('#df-51e1b0e1-537c-4abe-b8f1-a317cf8c6c13 button.colab-df-convert');\n",
              "      buttonEl.style.display =\n",
              "        google.colab.kernel.accessAllowed ? 'block' : 'none';\n",
              "\n",
              "      async function convertToInteractive(key) {\n",
              "        const element = document.querySelector('#df-51e1b0e1-537c-4abe-b8f1-a317cf8c6c13');\n",
              "        const dataTable =\n",
              "          await google.colab.kernel.invokeFunction('convertToInteractive',\n",
              "                                                    [key], {});\n",
              "        if (!dataTable) return;\n",
              "\n",
              "        const docLinkHtml = 'Like what you see? Visit the ' +\n",
              "          '<a target=\"_blank\" href=https://colab.research.google.com/notebooks/data_table.ipynb>data table notebook</a>'\n",
              "          + ' to learn more about interactive tables.';\n",
              "        element.innerHTML = '';\n",
              "        dataTable['output_type'] = 'display_data';\n",
              "        await google.colab.output.renderOutput(dataTable, element);\n",
              "        const docLink = document.createElement('div');\n",
              "        docLink.innerHTML = docLinkHtml;\n",
              "        element.appendChild(docLink);\n",
              "      }\n",
              "    </script>\n",
              "  </div>\n",
              "\n",
              "\n",
              "<div id=\"df-574cc5c3-3fbc-410b-989d-639392a1d1ca\">\n",
              "  <button class=\"colab-df-quickchart\" onclick=\"quickchart('df-574cc5c3-3fbc-410b-989d-639392a1d1ca')\"\n",
              "            title=\"Suggest charts\"\n",
              "            style=\"display:none;\">\n",
              "\n",
              "<svg xmlns=\"http://www.w3.org/2000/svg\" height=\"24px\"viewBox=\"0 0 24 24\"\n",
              "     width=\"24px\">\n",
              "    <g>\n",
              "        <path d=\"M19 3H5c-1.1 0-2 .9-2 2v14c0 1.1.9 2 2 2h14c1.1 0 2-.9 2-2V5c0-1.1-.9-2-2-2zM9 17H7v-7h2v7zm4 0h-2V7h2v10zm4 0h-2v-4h2v4z\"/>\n",
              "    </g>\n",
              "</svg>\n",
              "  </button>\n",
              "\n",
              "<style>\n",
              "  .colab-df-quickchart {\n",
              "      --bg-color: #E8F0FE;\n",
              "      --fill-color: #1967D2;\n",
              "      --hover-bg-color: #E2EBFA;\n",
              "      --hover-fill-color: #174EA6;\n",
              "      --disabled-fill-color: #AAA;\n",
              "      --disabled-bg-color: #DDD;\n",
              "  }\n",
              "\n",
              "  [theme=dark] .colab-df-quickchart {\n",
              "      --bg-color: #3B4455;\n",
              "      --fill-color: #D2E3FC;\n",
              "      --hover-bg-color: #434B5C;\n",
              "      --hover-fill-color: #FFFFFF;\n",
              "      --disabled-bg-color: #3B4455;\n",
              "      --disabled-fill-color: #666;\n",
              "  }\n",
              "\n",
              "  .colab-df-quickchart {\n",
              "    background-color: var(--bg-color);\n",
              "    border: none;\n",
              "    border-radius: 50%;\n",
              "    cursor: pointer;\n",
              "    display: none;\n",
              "    fill: var(--fill-color);\n",
              "    height: 32px;\n",
              "    padding: 0;\n",
              "    width: 32px;\n",
              "  }\n",
              "\n",
              "  .colab-df-quickchart:hover {\n",
              "    background-color: var(--hover-bg-color);\n",
              "    box-shadow: 0 1px 2px rgba(60, 64, 67, 0.3), 0 1px 3px 1px rgba(60, 64, 67, 0.15);\n",
              "    fill: var(--button-hover-fill-color);\n",
              "  }\n",
              "\n",
              "  .colab-df-quickchart-complete:disabled,\n",
              "  .colab-df-quickchart-complete:disabled:hover {\n",
              "    background-color: var(--disabled-bg-color);\n",
              "    fill: var(--disabled-fill-color);\n",
              "    box-shadow: none;\n",
              "  }\n",
              "\n",
              "  .colab-df-spinner {\n",
              "    border: 2px solid var(--fill-color);\n",
              "    border-color: transparent;\n",
              "    border-bottom-color: var(--fill-color);\n",
              "    animation:\n",
              "      spin 1s steps(1) infinite;\n",
              "  }\n",
              "\n",
              "  @keyframes spin {\n",
              "    0% {\n",
              "      border-color: transparent;\n",
              "      border-bottom-color: var(--fill-color);\n",
              "      border-left-color: var(--fill-color);\n",
              "    }\n",
              "    20% {\n",
              "      border-color: transparent;\n",
              "      border-left-color: var(--fill-color);\n",
              "      border-top-color: var(--fill-color);\n",
              "    }\n",
              "    30% {\n",
              "      border-color: transparent;\n",
              "      border-left-color: var(--fill-color);\n",
              "      border-top-color: var(--fill-color);\n",
              "      border-right-color: var(--fill-color);\n",
              "    }\n",
              "    40% {\n",
              "      border-color: transparent;\n",
              "      border-right-color: var(--fill-color);\n",
              "      border-top-color: var(--fill-color);\n",
              "    }\n",
              "    60% {\n",
              "      border-color: transparent;\n",
              "      border-right-color: var(--fill-color);\n",
              "    }\n",
              "    80% {\n",
              "      border-color: transparent;\n",
              "      border-right-color: var(--fill-color);\n",
              "      border-bottom-color: var(--fill-color);\n",
              "    }\n",
              "    90% {\n",
              "      border-color: transparent;\n",
              "      border-bottom-color: var(--fill-color);\n",
              "    }\n",
              "  }\n",
              "</style>\n",
              "\n",
              "  <script>\n",
              "    async function quickchart(key) {\n",
              "      const quickchartButtonEl =\n",
              "        document.querySelector('#' + key + ' button');\n",
              "      quickchartButtonEl.disabled = true;  // To prevent multiple clicks.\n",
              "      quickchartButtonEl.classList.add('colab-df-spinner');\n",
              "      try {\n",
              "        const charts = await google.colab.kernel.invokeFunction(\n",
              "            'suggestCharts', [key], {});\n",
              "      } catch (error) {\n",
              "        console.error('Error during call to suggestCharts:', error);\n",
              "      }\n",
              "      quickchartButtonEl.classList.remove('colab-df-spinner');\n",
              "      quickchartButtonEl.classList.add('colab-df-quickchart-complete');\n",
              "    }\n",
              "    (() => {\n",
              "      let quickchartButtonEl =\n",
              "        document.querySelector('#df-574cc5c3-3fbc-410b-989d-639392a1d1ca button');\n",
              "      quickchartButtonEl.style.display =\n",
              "        google.colab.kernel.accessAllowed ? 'block' : 'none';\n",
              "    })();\n",
              "  </script>\n",
              "</div>\n",
              "    </div>\n",
              "  </div>\n"
            ]
          },
          "metadata": {},
          "execution_count": 11
        }
      ]
    },
    {
      "cell_type": "code",
      "source": [
        "# print(\"Training Dataset\")\n",
        "# print(df_train_with_features['gender'].value_counts())\n",
        "# print(\"\")\n",
        "\n",
        "# print(df_train_with_features['ethnicity'].value_counts())\n",
        "# print(\"\")\n",
        "\n",
        "# print(df_train_with_features['insurance'].value_counts())"
      ],
      "metadata": {
        "id": "ChgY5wN94ICQ"
      },
      "execution_count": null,
      "outputs": []
    },
    {
      "cell_type": "code",
      "source": [
        "# print(\"Testing Dataset\")\n",
        "# print(df_test_with_features['gender'].value_counts())\n",
        "# print(\"\")\n",
        "\n",
        "# print(df_test_with_features['ethnicity'].value_counts())\n",
        "# print(\"\")\n",
        "\n",
        "# print(df_test_with_features['insurance'].value_counts())"
      ],
      "metadata": {
        "id": "yxAKpBPW4H_Z"
      },
      "execution_count": null,
      "outputs": []
    },
    {
      "cell_type": "code",
      "source": [
        "elements_to_include = ['WHITE', 'BLACK/AFRICAN AMERICAN', 'OTHER', 'WHITE - OTHER EUROPEAN', 'WHITE - RUSSIAN', 'ASIAN']\n",
        "\n",
        "df_train_with_features = df_train_with_features[df_train_with_features['ethnicity'].isin(elements_to_include)]\n",
        "df_test_with_features = df_test_with_features[df_test_with_features['ethnicity'].isin(elements_to_include)]\n",
        "\n",
        "df_train_with_no_features = df_train_with_no_features[df_train_with_no_features['ethnicity'].isin(elements_to_include)]\n",
        "df_test_with_no_features = df_test_with_no_features[df_test_with_no_features['ethnicity'].isin(elements_to_include)]"
      ],
      "metadata": {
        "id": "wmisfxK-4H7P"
      },
      "execution_count": null,
      "outputs": []
    },
    {
      "cell_type": "code",
      "source": [
        "print(df_train_with_features['ethnicity'].value_counts())"
      ],
      "metadata": {
        "colab": {
          "base_uri": "https://localhost:8080/"
        },
        "id": "IR5bt5QwYwBT",
        "outputId": "47f97e7f-0056-4456-d1fc-5cd8838cdca7"
      },
      "execution_count": null,
      "outputs": [
        {
          "output_type": "stream",
          "name": "stdout",
          "text": [
            "WHITE                     1442\n",
            "BLACK/AFRICAN AMERICAN     131\n",
            "OTHER                       57\n",
            "WHITE - OTHER EUROPEAN      27\n",
            "WHITE - RUSSIAN             22\n",
            "ASIAN                       18\n",
            "Name: ethnicity, dtype: int64\n"
          ]
        }
      ]
    },
    {
      "cell_type": "code",
      "source": [
        "print(df_test_with_features['ethnicity'].value_counts())"
      ],
      "metadata": {
        "colab": {
          "base_uri": "https://localhost:8080/"
        },
        "id": "3AnCX3JcY964",
        "outputId": "227166c6-89ae-4e59-c821-e8d82075e167"
      },
      "execution_count": null,
      "outputs": [
        {
          "output_type": "stream",
          "name": "stdout",
          "text": [
            "WHITE                     355\n",
            "BLACK/AFRICAN AMERICAN     37\n",
            "WHITE - OTHER EUROPEAN      9\n",
            "OTHER                       5\n",
            "WHITE - RUSSIAN             5\n",
            "ASIAN                       1\n",
            "Name: ethnicity, dtype: int64\n"
          ]
        }
      ]
    },
    {
      "cell_type": "code",
      "source": [
        "print(df_train_with_features.isna().sum())\n",
        "print(\"\")\n",
        "print(df_test_with_features.isna().sum())"
      ],
      "metadata": {
        "id": "uJtvIKW-8Cc6",
        "colab": {
          "base_uri": "https://localhost:8080/"
        },
        "outputId": "e94c05da-90cd-45c5-a9e4-29207a78f4e3"
      },
      "execution_count": null,
      "outputs": [
        {
          "output_type": "stream",
          "name": "stdout",
          "text": [
            "220045       0\n",
            "220277       0\n",
            "220210       0\n",
            "223761       0\n",
            "220179       0\n",
            "Age          0\n",
            "gender       0\n",
            "ethnicity    0\n",
            "insurance    0\n",
            "label        0\n",
            "dtype: int64\n",
            "\n",
            "220045       0\n",
            "220277       0\n",
            "220210       0\n",
            "223761       0\n",
            "220179       0\n",
            "Age          0\n",
            "gender       0\n",
            "ethnicity    0\n",
            "insurance    0\n",
            "label        0\n",
            "dtype: int64\n"
          ]
        }
      ]
    },
    {
      "cell_type": "code",
      "source": [
        "df_train_with_features['label'].value_counts()"
      ],
      "metadata": {
        "colab": {
          "base_uri": "https://localhost:8080/"
        },
        "id": "8uG1LKwcdVmf",
        "outputId": "c77c07b1-994c-42b7-e226-25b40c05acae"
      },
      "execution_count": null,
      "outputs": [
        {
          "output_type": "execute_result",
          "data": {
            "text/plain": [
              "0    1388\n",
              "1     309\n",
              "Name: label, dtype: int64"
            ]
          },
          "metadata": {},
          "execution_count": 18
        }
      ]
    },
    {
      "cell_type": "code",
      "source": [
        "df_test_with_features['label'].value_counts()"
      ],
      "metadata": {
        "id": "XLKe5qsqj8ZD",
        "outputId": "089cbad1-5951-40b6-e698-9e8c009b999b",
        "colab": {
          "base_uri": "https://localhost:8080/"
        }
      },
      "execution_count": null,
      "outputs": [
        {
          "output_type": "execute_result",
          "data": {
            "text/plain": [
              "0    350\n",
              "1     62\n",
              "Name: label, dtype: int64"
            ]
          },
          "metadata": {},
          "execution_count": 19
        }
      ]
    },
    {
      "cell_type": "code",
      "source": [
        "df_majority_with_features = df_train_with_features[df_train_with_features['label'] == 0]\n",
        "df_minority_with_features = df_train_with_features[df_train_with_features['label'] == 1]\n",
        "\n",
        "df_majority_with_no_features = df_train_with_no_features[df_train_with_no_features['label'] == 0]\n",
        "df_minority_with_no_features = df_train_with_no_features[df_train_with_no_features['label'] == 1]"
      ],
      "metadata": {
        "id": "HhexulTld8xg"
      },
      "execution_count": null,
      "outputs": []
    },
    {
      "cell_type": "code",
      "source": [
        "df_minority_oversampled_with_features = resample(df_minority_with_features, replace=True, n_samples=1000, random_state=42)\n",
        "\n",
        "df_minority_oversampled_with_no_features = resample(df_minority_with_no_features, replace=True, n_samples=1000, random_state=42)"
      ],
      "metadata": {
        "id": "sq4oc0abeGED"
      },
      "execution_count": null,
      "outputs": []
    },
    {
      "cell_type": "code",
      "source": [
        "df_oversampled_with_features = pd.concat([df_majority_with_features, df_minority_oversampled_with_features])\n",
        "\n",
        "df_oversampled_with_no_features = pd.concat([df_majority_with_no_features, df_minority_oversampled_with_no_features])"
      ],
      "metadata": {
        "id": "_-BfU2EseKxX"
      },
      "execution_count": null,
      "outputs": []
    },
    {
      "cell_type": "code",
      "source": [
        "df_oversampled_with_features['label'].value_counts()"
      ],
      "metadata": {
        "colab": {
          "base_uri": "https://localhost:8080/"
        },
        "id": "taNKLqrneO57",
        "outputId": "a0322999-2749-4c4a-f5a7-b3a36006cd2a"
      },
      "execution_count": null,
      "outputs": [
        {
          "output_type": "execute_result",
          "data": {
            "text/plain": [
              "0    1388\n",
              "1    1000\n",
              "Name: label, dtype: int64"
            ]
          },
          "metadata": {},
          "execution_count": 21
        }
      ]
    },
    {
      "cell_type": "code",
      "source": [
        "train_sex_data = pd.get_dummies(df_oversampled_with_no_features['gender'], drop_first = True)\n",
        "train_ethinicity_data = pd.get_dummies(df_oversampled_with_no_features['ethnicity'], drop_first = True)\n",
        "train_insurance_data = pd.get_dummies(df_oversampled_with_no_features['insurance'], drop_first = True)\n",
        "\n",
        "test_sex_data = pd.get_dummies(df_test_with_no_features['gender'], drop_first = True)\n",
        "test_ethinicity_data = pd.get_dummies(df_test_with_no_features['ethnicity'], drop_first = True)\n",
        "test_insurance_data = pd.get_dummies(df_test_with_no_features['insurance'], drop_first = True)"
      ],
      "metadata": {
        "id": "_t9AsS-X4H0x"
      },
      "execution_count": null,
      "outputs": []
    },
    {
      "cell_type": "code",
      "source": [
        "df_oversampled_with_features = pd.concat([df_oversampled_with_features, train_sex_data, train_ethinicity_data, train_insurance_data], axis = 1)\n",
        "df_oversampled_with_features.drop(['gender', 'ethnicity', 'insurance'], axis = 1, inplace = True)\n",
        "\n",
        "\n",
        "df_test_with_features = pd.concat([df_test_with_features, test_sex_data, test_ethinicity_data, test_insurance_data], axis = 1)\n",
        "df_test_with_features.drop(['gender', 'ethnicity', 'insurance'], axis = 1, inplace = True)\n",
        "\n",
        "\n",
        "\n",
        "df_oversampled_with_no_features = pd.concat([df_oversampled_with_no_features, train_sex_data, train_ethinicity_data, train_insurance_data], axis = 1)\n",
        "df_oversampled_with_no_features.drop(['gender', 'ethnicity', 'insurance'], axis = 1, inplace = True)\n",
        "\n",
        "df_test_with_no_features = pd.concat([df_test_with_no_features, test_sex_data, test_ethinicity_data, test_insurance_data], axis = 1)\n",
        "df_test_with_no_features.drop(['gender', 'ethnicity', 'insurance'], axis = 1, inplace = True)"
      ],
      "metadata": {
        "id": "cdFLuOw3ZLgK"
      },
      "execution_count": null,
      "outputs": []
    },
    {
      "cell_type": "code",
      "source": [
        "X_training_data_with_features = df_oversampled_with_features.drop(['label'], axis=1)\n",
        "X_test_data_with_features = df_test_with_features.drop(['label'], axis=1)\n",
        "\n",
        "y_training_data_with_features = df_oversampled_with_features[['label']]\n",
        "y_test_data_with_features = df_test_with_features[['label']]\n",
        "\n",
        "\n",
        "\n",
        "X_training_data_with_no_features = df_oversampled_with_no_features.drop(['label'], axis=1)\n",
        "X_test_data_with_no_features = df_test_with_no_features.drop(['label'], axis=1)\n",
        "\n",
        "y_training_data_with_no_features = df_oversampled_with_no_features[['label']]\n",
        "y_test_data_with_no_features = df_test_with_no_features[['label']]"
      ],
      "metadata": {
        "id": "v-KxWM04bo4w"
      },
      "execution_count": null,
      "outputs": []
    },
    {
      "cell_type": "code",
      "source": [
        "X_training_data_with_features.shape"
      ],
      "metadata": {
        "colab": {
          "base_uri": "https://localhost:8080/"
        },
        "id": "AoCue_-JqnMq",
        "outputId": "c7ce3939-73d3-479b-c2cd-d99a995daabd"
      },
      "execution_count": null,
      "outputs": [
        {
          "output_type": "execute_result",
          "data": {
            "text/plain": [
              "(2388, 14)"
            ]
          },
          "metadata": {},
          "execution_count": 25
        }
      ]
    },
    {
      "cell_type": "code",
      "source": [
        "y_training_data_with_features.shape"
      ],
      "metadata": {
        "colab": {
          "base_uri": "https://localhost:8080/"
        },
        "id": "dW46g46Gcgyc",
        "outputId": "10cef9b7-29c7-4c89-c5c1-e2e5336f0afe"
      },
      "execution_count": null,
      "outputs": [
        {
          "output_type": "execute_result",
          "data": {
            "text/plain": [
              "(2388, 1)"
            ]
          },
          "metadata": {},
          "execution_count": 26
        }
      ]
    },
    {
      "cell_type": "code",
      "source": [
        "model = LogisticRegression(max_iter=5000)"
      ],
      "metadata": {
        "id": "2LR8ItmMcX-F"
      },
      "execution_count": null,
      "outputs": []
    },
    {
      "cell_type": "code",
      "source": [
        "model.fit(X_training_data_with_features, y_training_data_with_features.values.ravel())\n",
        "predictions_with_features = model.predict(X_test_data_with_features)\n",
        "print(classification_report(y_test_data_with_features, predictions_with_features))"
      ],
      "metadata": {
        "colab": {
          "base_uri": "https://localhost:8080/"
        },
        "id": "0lZSnRN9cjrv",
        "outputId": "3ad231e9-1558-4afe-fc7a-3f291631b641"
      },
      "execution_count": null,
      "outputs": [
        {
          "output_type": "stream",
          "name": "stdout",
          "text": [
            "              precision    recall  f1-score   support\n",
            "\n",
            "           0       0.87      0.81      0.84       350\n",
            "           1       0.22      0.31      0.26        62\n",
            "\n",
            "    accuracy                           0.74       412\n",
            "   macro avg       0.55      0.56      0.55       412\n",
            "weighted avg       0.77      0.74      0.75       412\n",
            "\n"
          ]
        }
      ]
    },
    {
      "cell_type": "code",
      "source": [
        "model.fit(X_training_data_with_no_features, y_training_data_with_no_features.values.ravel())\n",
        "predictions_with_no_features = model.predict(X_test_data_with_no_features)\n",
        "print(classification_report(y_test_data_with_no_features, predictions_with_no_features))"
      ],
      "metadata": {
        "colab": {
          "base_uri": "https://localhost:8080/"
        },
        "id": "XJPihNt35Fv4",
        "outputId": "819588a7-b771-468d-9d50-6167b501683c"
      },
      "execution_count": null,
      "outputs": [
        {
          "output_type": "stream",
          "name": "stdout",
          "text": [
            "              precision    recall  f1-score   support\n",
            "\n",
            "           0       0.86      0.95      0.90       350\n",
            "           1       0.32      0.13      0.18        62\n",
            "\n",
            "    accuracy                           0.83       412\n",
            "   macro avg       0.59      0.54      0.54       412\n",
            "weighted avg       0.78      0.83      0.80       412\n",
            "\n"
          ]
        }
      ]
    },
    {
      "cell_type": "code",
      "source": [],
      "metadata": {
        "id": "3kPMamm9rPhI"
      },
      "execution_count": null,
      "outputs": []
    },
    {
      "cell_type": "code",
      "source": [
        "rf_model = RandomForestClassifier(n_estimators=100, random_state=42)"
      ],
      "metadata": {
        "id": "gIB_HaBbry59"
      },
      "execution_count": null,
      "outputs": []
    },
    {
      "cell_type": "code",
      "source": [
        "rf_model.fit(X_training_data_with_features, y_training_data_with_features.values.ravel())\n",
        "predictions_with_features = rf_model.predict(X_test_data_with_features)\n",
        "print(classification_report(y_test_data_with_features, predictions_with_features))"
      ],
      "metadata": {
        "colab": {
          "base_uri": "https://localhost:8080/"
        },
        "outputId": "71264a1c-9b80-4cf8-cda5-6126e123af9e",
        "id": "KX_qD3Wxry6I"
      },
      "execution_count": null,
      "outputs": [
        {
          "output_type": "stream",
          "name": "stdout",
          "text": [
            "              precision    recall  f1-score   support\n",
            "\n",
            "           0       0.85      0.98      0.91       350\n",
            "           1       0.14      0.02      0.03        62\n",
            "\n",
            "    accuracy                           0.84       412\n",
            "   macro avg       0.50      0.50      0.47       412\n",
            "weighted avg       0.74      0.84      0.78       412\n",
            "\n"
          ]
        }
      ]
    },
    {
      "cell_type": "code",
      "source": [
        "rf_model.fit(X_training_data_with_no_features, y_training_data_with_no_features.values.ravel())\n",
        "predictions_with_no_features = rf_model.predict(X_test_data_with_no_features)\n",
        "print(classification_report(y_test_data_with_no_features, predictions_with_no_features))"
      ],
      "metadata": {
        "id": "368xu28zry6I",
        "colab": {
          "base_uri": "https://localhost:8080/"
        },
        "outputId": "95ff47a0-d7cb-4ed1-92d7-62492135714a"
      },
      "execution_count": null,
      "outputs": [
        {
          "output_type": "stream",
          "name": "stdout",
          "text": [
            "              precision    recall  f1-score   support\n",
            "\n",
            "           0       0.86      0.74      0.79       350\n",
            "           1       0.17      0.31      0.22        62\n",
            "\n",
            "    accuracy                           0.67       412\n",
            "   macro avg       0.51      0.52      0.51       412\n",
            "weighted avg       0.75      0.67      0.71       412\n",
            "\n"
          ]
        }
      ]
    },
    {
      "cell_type": "code",
      "source": [],
      "metadata": {
        "id": "SyO7IuQyrznD"
      },
      "execution_count": null,
      "outputs": []
    },
    {
      "cell_type": "code",
      "source": [
        "gb_model = GradientBoostingClassifier(n_estimators=100, learning_rate=0.1, random_state=42)"
      ],
      "metadata": {
        "id": "P3TrL5Jgrzyb"
      },
      "execution_count": null,
      "outputs": []
    },
    {
      "cell_type": "code",
      "source": [
        "gb_model.fit(X_training_data_with_features, y_training_data_with_features.values.ravel())\n",
        "predictions_with_features = gb_model.predict(X_test_data_with_features)\n",
        "print(classification_report(y_test_data_with_features, predictions_with_features))"
      ],
      "metadata": {
        "colab": {
          "base_uri": "https://localhost:8080/"
        },
        "id": "94TFsZqh5yih",
        "outputId": "ea9cd947-7fc7-4618-9a38-a6d1df15ddb4"
      },
      "execution_count": null,
      "outputs": [
        {
          "output_type": "stream",
          "name": "stdout",
          "text": [
            "              precision    recall  f1-score   support\n",
            "\n",
            "           0       0.86      0.84      0.85       350\n",
            "           1       0.20      0.23      0.21        62\n",
            "\n",
            "    accuracy                           0.75       412\n",
            "   macro avg       0.53      0.53      0.53       412\n",
            "weighted avg       0.76      0.75      0.76       412\n",
            "\n"
          ]
        }
      ]
    },
    {
      "cell_type": "code",
      "source": [
        "gb_model.fit(X_training_data_with_no_features, y_training_data_with_no_features.values.ravel())\n",
        "predictions_with_no_features = gb_model.predict(X_test_data_with_no_features)\n",
        "print(classification_report(y_test_data_with_no_features, predictions_with_no_features))"
      ],
      "metadata": {
        "colab": {
          "base_uri": "https://localhost:8080/"
        },
        "id": "bWv8M-dp52tf",
        "outputId": "0df801c5-e57d-42b0-eec0-c69c75f5e796"
      },
      "execution_count": null,
      "outputs": [
        {
          "output_type": "stream",
          "name": "stdout",
          "text": [
            "              precision    recall  f1-score   support\n",
            "\n",
            "           0       0.86      0.83      0.84       350\n",
            "           1       0.18      0.21      0.19        62\n",
            "\n",
            "    accuracy                           0.73       412\n",
            "   macro avg       0.52      0.52      0.52       412\n",
            "weighted avg       0.75      0.73      0.74       412\n",
            "\n"
          ]
        }
      ]
    },
    {
      "cell_type": "code",
      "source": [],
      "metadata": {
        "id": "9pz0JySQsGHK"
      },
      "execution_count": null,
      "outputs": []
    },
    {
      "cell_type": "code",
      "source": [
        "xgb_model = XGBClassifier()\n",
        "xgb_model.fit(X_training_data_with_features, y_training_data_with_features.values.ravel())\n",
        "predictions_xgb = xgb_model.predict(X_test_data_with_features)\n",
        "print(\"XGBoost:\")\n",
        "print(classification_report(y_test_data_with_features, predictions_xgb))\n",
        "print(\"=\" * 50)"
      ],
      "metadata": {
        "colab": {
          "base_uri": "https://localhost:8080/"
        },
        "id": "35-FeBoLQUXy",
        "outputId": "dc11e9b4-d23d-461d-d37d-141d616faab1"
      },
      "execution_count": null,
      "outputs": [
        {
          "output_type": "stream",
          "name": "stdout",
          "text": [
            "XGBoost:\n",
            "              precision    recall  f1-score   support\n",
            "\n",
            "           0       0.86      0.92      0.89       350\n",
            "           1       0.24      0.15      0.18        62\n",
            "\n",
            "    accuracy                           0.80       412\n",
            "   macro avg       0.55      0.53      0.53       412\n",
            "weighted avg       0.76      0.80      0.78       412\n",
            "\n",
            "==================================================\n"
          ]
        }
      ]
    },
    {
      "cell_type": "code",
      "source": [
        "xgb_model = XGBClassifier()\n",
        "xgb_model.fit(X_training_data_with_no_features, y_training_data_with_no_features.values.ravel())\n",
        "predictions_xgb = xgb_model.predict(X_test_data_with_no_features)\n",
        "print(\"XGBoost:\")\n",
        "print(classification_report(y_test_data_with_no_features, predictions_xgb))\n",
        "print(\"=\" * 50)"
      ],
      "metadata": {
        "colab": {
          "base_uri": "https://localhost:8080/"
        },
        "id": "kz3TprZRQUU7",
        "outputId": "92fc0cc6-71ce-4a6a-d525-40a55b2da9c2"
      },
      "execution_count": null,
      "outputs": [
        {
          "output_type": "stream",
          "name": "stdout",
          "text": [
            "XGBoost:\n",
            "              precision    recall  f1-score   support\n",
            "\n",
            "           0       0.85      0.73      0.79       350\n",
            "           1       0.16      0.29      0.21        62\n",
            "\n",
            "    accuracy                           0.66       412\n",
            "   macro avg       0.51      0.51      0.50       412\n",
            "weighted avg       0.75      0.66      0.70       412\n",
            "\n",
            "==================================================\n"
          ]
        }
      ]
    },
    {
      "cell_type": "code",
      "source": [
        "X_training_data_with_features.columns"
      ],
      "metadata": {
        "colab": {
          "base_uri": "https://localhost:8080/"
        },
        "id": "yTVCMkJRbiwb",
        "outputId": "f7e70887-fb59-4cf9-af22-edb86a15af42"
      },
      "execution_count": null,
      "outputs": [
        {
          "output_type": "execute_result",
          "data": {
            "text/plain": [
              "Index(['220045', '220277', '220210', '223761', '220179', 'Age', 'M',\n",
              "       'BLACK/AFRICAN AMERICAN', 'OTHER', 'WHITE', 'WHITE - OTHER EUROPEAN',\n",
              "       'WHITE - RUSSIAN', 'Medicare', 'Other'],\n",
              "      dtype='object')"
            ]
          },
          "metadata": {},
          "execution_count": 77
        }
      ]
    },
    {
      "cell_type": "code",
      "source": [
        "X_test_data_with_features.columns"
      ],
      "metadata": {
        "colab": {
          "base_uri": "https://localhost:8080/"
        },
        "id": "SPDELjqyQT-Q",
        "outputId": "60c74ba9-0b31-4228-d727-5766624a6030"
      },
      "execution_count": null,
      "outputs": [
        {
          "output_type": "execute_result",
          "data": {
            "text/plain": [
              "Index(['220045', '220277', '220210', '223761', '220179', 'Age', 'M',\n",
              "       'BLACK/AFRICAN AMERICAN', 'OTHER', 'WHITE', 'WHITE - OTHER EUROPEAN',\n",
              "       'WHITE - RUSSIAN', 'Medicare', 'Other'],\n",
              "      dtype='object')"
            ]
          },
          "metadata": {},
          "execution_count": 73
        }
      ]
    },
    {
      "cell_type": "code",
      "source": [
        "# Assuming you have trained models named svm_model, rf_model, gb_model, nb_model, xgb_model\n",
        "models = [model, rf_model, gb_model, xgb_model]\n",
        "model_names = ['Logistic Regression', 'Random Forest', 'Gradient Boosting', 'XGBoost']\n",
        "\n",
        "for model, name in zip(models, model_names):\n",
        "    if hasattr(model, \"decision_function\"):\n",
        "        y_scores = model.decision_function(X_test_data_with_features)\n",
        "    else:\n",
        "        y_scores = model.predict_proba(X_test_data_with_features)[:, 1]\n",
        "\n",
        "    fpr, tpr, _ = roc_curve(y_test_data_with_features, y_scores)\n",
        "    roc_auc = auc(fpr, tpr)\n",
        "\n",
        "    plt.plot(fpr, tpr, label=f'{name} (AUC = {roc_auc:.2f})')\n",
        "\n",
        "plt.plot([0, 1], [0, 1], color='navy', lw=2, linestyle='--')\n",
        "plt.xlabel('False Positive Rate')\n",
        "plt.ylabel('True Positive Rate')\n",
        "plt.title('ROC Curve for Multiple Models with features')\n",
        "plt.legend(loc='lower right')\n",
        "plt.savefig('ROC Curve for Multiple Models with features.pdf')\n",
        "plt.show()\n"
      ],
      "metadata": {
        "colab": {
          "base_uri": "https://localhost:8080/",
          "height": 472
        },
        "id": "p7aAYlxfXzXe",
        "outputId": "663ac9f3-63b4-4eb3-840f-2254c41ff78d"
      },
      "execution_count": null,
      "outputs": [
        {
          "output_type": "display_data",
          "data": {
            "text/plain": [
              "<Figure size 640x480 with 1 Axes>"
            ],
            "image/png": "[encoded data removed]"
          },
          "metadata": {}
        }
      ]
    },
    {
      "cell_type": "code",
      "source": [
        "for model, name in zip(models, model_names):\n",
        "    if hasattr(model, \"decision_function\"):\n",
        "        y_scores = model.decision_function(X_test_data_with_features)\n",
        "    else:\n",
        "        y_scores = model.predict_proba(X_test_data_with_features)[:, 1]\n",
        "\n",
        "    precision, recall, _ = precision_recall_curve(y_test_data_with_features, y_scores)\n",
        "\n",
        "    plt.plot(recall, precision, label=f'{name}')\n",
        "\n",
        "plt.xlabel('Recall')\n",
        "plt.ylabel('Precision')\n",
        "plt.title('Precision-Recall Curve for Multiple Models with features')\n",
        "plt.legend(loc='lower left')\n",
        "plt.savefig('Precision-Recall Curve for Multiple Models with features.pdf')\n",
        "plt.show()"
      ],
      "metadata": {
        "colab": {
          "base_uri": "https://localhost:8080/",
          "height": 472
        },
        "id": "nt9EGlC0YINL",
        "outputId": "d0adfe59-60a0-4e9b-a182-ecfc5107bb3d"
      },
      "execution_count": null,
      "outputs": [
        {
          "output_type": "display_data",
          "data": {
            "text/plain": [
              "<Figure size 640x480 with 1 Axes>"
            ],
            "image/png": "[encoded data removed]"
          },
          "metadata": {}
        }
      ]
    },
    {
      "cell_type": "code",
      "source": [],
      "metadata": {
        "id": "h22kTzWJcfNN"
      },
      "execution_count": null,
      "outputs": []
    },
    {
      "cell_type": "code",
      "source": [
        "# Assuming you have trained models named svm_model, rf_model, gb_model, nb_model, xgb_model\n",
        "models = [model, rf_model, gb_model, xgb_model]\n",
        "model_names = ['Logistic Regression', 'Random Forest', 'Gradient Boosting', 'XGBoost']\n",
        "\n",
        "for model, name in zip(models, model_names):\n",
        "    if hasattr(model, \"decision_function\"):\n",
        "        y_scores = model.decision_function(X_test_data_with_no_features)\n",
        "    else:\n",
        "        y_scores = model.predict_proba(X_test_data_with_no_features)[:, 1]\n",
        "\n",
        "    fpr, tpr, _ = roc_curve(y_test_data_with_no_features, y_scores)\n",
        "    roc_auc = auc(fpr, tpr)\n",
        "\n",
        "    plt.plot(fpr, tpr, label=f'{name} (AUC = {roc_auc:.2f})')\n",
        "\n",
        "plt.plot([0, 1], [0, 1], color='navy', lw=2, linestyle='--')\n",
        "plt.xlabel('False Positive Rate')\n",
        "plt.ylabel('True Positive Rate')\n",
        "plt.title('ROC Curve for Multiple Models with no features')\n",
        "plt.legend(loc='lower right')\n",
        "plt.savefig('ROC Curve for Multiple Models with no features.pdf')\n",
        "plt.show()\n"
      ],
      "metadata": {
        "colab": {
          "base_uri": "https://localhost:8080/",
          "height": 472
        },
        "id": "8OdvLWz-dN0j",
        "outputId": "27e90874-a98b-4cd6-ede1-44b6a2f36a1b"
      },
      "execution_count": null,
      "outputs": [
        {
          "output_type": "display_data",
          "data": {
            "text/plain": [
              "<Figure size 640x480 with 1 Axes>"
            ],
            "image/png": "[encoded data removed]"
          },
          "metadata": {}
        }
      ]
    },
    {
      "cell_type": "code",
      "source": [
        "for model, name in zip(models, model_names):\n",
        "    if hasattr(model, \"decision_function\"):\n",
        "        y_scores = model.decision_function(X_test_data_with_no_features)\n",
        "    else:\n",
        "        y_scores = model.predict_proba(X_test_data_with_no_features)[:, 1]\n",
        "\n",
        "    precision, recall, _ = precision_recall_curve(y_test_data_with_no_features, y_scores)\n",
        "\n",
        "    plt.plot(recall, precision, label=f'{name}')\n",
        "\n",
        "plt.xlabel('Recall')\n",
        "plt.ylabel('Precision')\n",
        "plt.title('Precision-Recall Curve for Multiple Models with no features')\n",
        "plt.legend(loc='lower left')\n",
        "plt.savefig('Precision-Recall Curve for Multiple Models with no features.pdf')\n",
        "plt.show()"
      ],
      "metadata": {
        "colab": {
          "base_uri": "https://localhost:8080/",
          "height": 472
        },
        "id": "vs-HGjdudNyP",
        "outputId": "2fdc8175-6733-4502-ddf8-7674d7480cf3"
      },
      "execution_count": null,
      "outputs": [
        {
          "output_type": "display_data",
          "data": {
            "text/plain": [
              "<Figure size 640x480 with 1 Axes>"
            ],
            "image/png": "[encoded data removed]"
          },
          "metadata": {}
        }
      ]
    },
    {
      "cell_type": "code",
      "source": [],
      "metadata": {
        "id": "bSmtRS0Qe5ZX"
      },
      "execution_count": null,
      "outputs": []
    }
  ]
}